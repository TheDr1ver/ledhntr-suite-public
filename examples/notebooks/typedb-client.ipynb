{
 "cells": [
  {
   "cell_type": "markdown",
   "metadata": {},
   "source": [
    "# Launch Docker Instance\n",
    "\n",
    "```\n",
    "docker run --name typedb -d -v typedb-data:/opt/ -p 1729:1729 --platform linux/amd64 vaticle/typedb:latest\n",
    "```"
   ]
  },
  {
   "cell_type": "markdown",
   "metadata": {},
   "source": [
    "# Check Connectivity"
   ]
  },
  {
   "cell_type": "code",
   "execution_count": null,
   "metadata": {},
   "outputs": [],
   "source": [
    "from typedb.driver import *\n",
    "client = TypeDB.core_driver(\"192.168.1.170:1729\")\n",
    "client.close()"
   ]
  },
  {
   "cell_type": "markdown",
   "metadata": {},
   "source": [
    "# Quickstart\n",
    "(from https://typedb.com/docs/drivers/python/overview)"
   ]
  },
  {
   "cell_type": "code",
   "execution_count": null,
   "metadata": {},
   "outputs": [],
   "source": [
    "DB_NAME = \"typedb-tutorial-db\"\n",
    "SERVER_ADDR = \"192.168.1.170:1729\"\n",
    "\n",
    "with TypeDB.core_driver(SERVER_ADDR) as driver:\n",
    "    if driver.databases.contains(DB_NAME):\n",
    "        driver.databases.get(DB_NAME).delete()\n",
    "    driver.databases.create(DB_NAME)\n",
    "\n",
    "    with driver.session(DB_NAME, SessionType.SCHEMA) as session:\n",
    "        with session.transaction(TransactionType.WRITE) as tx:\n",
    "            tx.query.define(\"define person sub entity;\")\n",
    "            tx.query.define(\"define name sub attribute, value string; person owns name;\")\n",
    "            tx.commit()\n",
    "\n",
    "    with driver.session(DB_NAME, SessionType.DATA) as session:\n",
    "        with session.transaction(TransactionType.WRITE) as tx:\n",
    "            tx.query.insert(\"insert $p isa person, has name 'Alice';\")\n",
    "            tx.query.insert(\"insert $p isa person, has name 'Bob';\")\n",
    "            tx.commit()\n",
    "        with session.transaction(TransactionType.READ) as tx:\n",
    "            results = tx.query.fetch(\"match $p isa person; fetch $p: name;\")\n",
    "            for json in results:\n",
    "                print(json)"
   ]
  },
  {
   "cell_type": "markdown",
   "metadata": {},
   "source": [
    "# Test LEDHNTR Client"
   ]
  },
  {
   "cell_type": "code",
   "execution_count": null,
   "metadata": {},
   "outputs": [],
   "source": [
    "from pprint import pprint, pformat\n",
    "from ledhntr import LEDHNTR\n",
    "from ledhntr.data_classes import(\n",
    "    Attribute, Entity, Relation, Thing\n",
    ")\n",
    "\n",
    "from pkg_resources import resource_stream\n",
    "\n",
    "led = LEDHNTR()\n",
    "tdb = led.plugins['typedb_client']\n",
    "DB_NAME = \"typedb-tutorial-db\"\n",
    "SCHEMA = resource_stream('ledhntr', 'schemas/schema.tql').name\n",
    "ROAD_SCHEMA = resource_stream('ledhntr', 'schemas/road.tql').name\n",
    "\n",
    "tdb.check_db(DB_NAME)"
   ]
  },
  {
   "cell_type": "markdown",
   "metadata": {},
   "source": [
    "## Get all DBs"
   ]
  },
  {
   "cell_type": "code",
   "execution_count": null,
   "metadata": {},
   "outputs": [],
   "source": [
    "dbs = tdb.get_all_dbs()\n",
    "all_dbs = []\n",
    "for dbo in dbs:\n",
    "    db = str(dbo)\n",
    "    if db not in all_dbs:\n",
    "        all_dbs.append(db)\n",
    "        print(db)"
   ]
  },
  {
   "cell_type": "markdown",
   "metadata": {},
   "source": [
    "## Search DB for results"
   ]
  },
  {
   "cell_type": "code",
   "execution_count": null,
   "metadata": {},
   "outputs": [],
   "source": [
    "from pprint import pprint, pformat\n",
    "tdb.db_name = DB_NAME\n",
    "alice = Entity(label='person', has=[Attribute(label='name', value='Alice')])\n",
    "res = tdb.find_things(alice)\n",
    "pprint(res)\n",
    "pprint(res[0].to_dict())"
   ]
  },
  {
   "cell_type": "markdown",
   "metadata": {},
   "source": [
    "## Bootstrap ROAD (Root of all data)"
   ]
  },
  {
   "cell_type": "code",
   "execution_count": null,
   "metadata": {},
   "outputs": [],
   "source": [
    "def _bootstrap_road(dbc):\n",
    "\n",
    "    # Start with a fresh RoAD DB\n",
    "    dbc.create_db()\n",
    "    dbc.write_tql_file(\n",
    "        file = ROAD_SCHEMA\n",
    "    )\n",
    "\n",
    "    # Create base structure\n",
    "    things = {'attributes':[], 'entities':[], 'relations':[]}\n",
    "    base_ents = ['actors', 'archives', 'index', 'scratchpad', 'news', 'active-hunts']\n",
    "    for be in base_ents:\n",
    "        things['entities'].append(Entity(label=be))\n",
    "        road = Relation(label='road', players={'related': things['entities']})\n",
    "    things['relations'].append(road)\n",
    "    dbc.bulk_add(things, force=True)\n",
    "\n",
    "    return True\n",
    "\n",
    "tdb.db_name = 'road'\n",
    "_bootstrap_road(tdb)"
   ]
  },
  {
   "cell_type": "markdown",
   "metadata": {},
   "source": [
    "# Generate Dummy Data"
   ]
  },
  {
   "cell_type": "code",
   "execution_count": null,
   "metadata": {},
   "outputs": [],
   "source": [
    "import random\n",
    "from datetime import datetime, timedelta\n",
    "from pprint import pprint, pformat\n",
    "from time import time\n",
    "\n",
    "def gen_ips(num, existing_ips=[]):\n",
    "    for i in range(num):\n",
    "        ip = \".\".join(str(random.randint(0,255)) for _ in range(4))\n",
    "        if ip not in existing_ips:\n",
    "            existing_ips.append(ip)\n",
    "    if len(existing_ips) >= num:\n",
    "        return existing_ips\n",
    "    missing = num-len(existing_ips)\n",
    "    if missing:\n",
    "        print(f\"Missing {missing} IPs - generating more...\")\n",
    "    existing_ips = gen_ips(missing, existing_ips)\n",
    "    return existing_ips\n",
    "\n",
    "def gen_lorem(words, num_sentences=1):\n",
    "    sentences = []\n",
    "    for s in range(num_sentences):\n",
    "        lorem_ipsum_text = (\n",
    "            \"Lorem ipsum dolor sit amet consectetur adipiscing elit sed do eiusmod tempor incididunt ut labore et dolore \"\n",
    "            \"magna aliqua Ut enim ad minim veniam quis nostrud exercitation ullamco laboris nisi ut aliquip ex ea commodo \"\n",
    "            \"consequat Duis aute irure dolor in reprehenderit in voluptate velit esse cillum dolore eu fugiat nulla pariatur \"\n",
    "            \"Excepteur sint occaecat cupidatat non proident sunt in culpa qui officia deserunt mollit anim id est laborum\"\n",
    "        )\n",
    "        words_list = lorem_ipsum_text.split()\n",
    "        output_text = ' '.join(random.choice(words_list) for _ in range(words))\n",
    "        output_text += \".\"\n",
    "        sentences.append(f\"{output_text}\")\n",
    "    return ' '.join(sentences)\n",
    "\n",
    "def roll_die(sides=6):\n",
    "    return random.randint(1,sides)\n",
    "\n",
    "def gen_hunts(num_hunts=1, num_ips=50):\n",
    "    all_hunts = []\n",
    "    for nh in range(num_hunts):\n",
    "        ips = gen_ips(num_ips)\n",
    "        now = datetime.now()\n",
    "        yesterday = now - timedelta(days=1)\n",
    "        tomorrow = now + timedelta(days=1)\n",
    "\n",
    "        date_discovered = Attribute(label='date-discovered', value=yesterday)\n",
    "        date_seen_yest = Attribute(label='date-seen', value=yesterday)\n",
    "        date_seen_today = Attribute(label='date-seen', value=now)\n",
    "        date_seen_tom = Attribute(label='date-seen', value=tomorrow)\n",
    "        asn = Attribute(label='note', value='TRASH-PANDA-SERVERS')\n",
    "\n",
    "        ipents = []\n",
    "\n",
    "        for ip in ips:\n",
    "            ipattr = Attribute(label='ip-address', value=ip)\n",
    "            ipent = Entity(label='ip', has=[ipattr, date_discovered, date_seen_yest, date_seen_today, date_seen_tom])\n",
    "            roll = roll_die(3)\n",
    "            if roll==3:\n",
    "                ipent.has.append(asn)\n",
    "            else:\n",
    "                randasn = gen_lorem(3).replace(' ', '-').upper()\n",
    "                randasnattr = Attribute(label='note', value=randasn)\n",
    "                ipent.has.append(randasnattr)\n",
    "            ipents.append(ipent)\n",
    "\n",
    "        nowint = int(time())\n",
    "        hunt_name = Attribute(label='hunt-name', value=f'HUNT-{nh}-{nowint}')\n",
    "        hunt_active = Attribute(label='hunt-active', value=True)\n",
    "        hunt = Relation(label='hunt', has=[hunt_name, hunt_active], players={'related': ipents})\n",
    "        # pprint(hunt)\n",
    "        # pprint(hunt.players['related'][0].to_dict())\n",
    "        all_hunts.append(hunt)\n",
    "    return all_hunts\n"
   ]
  },
  {
   "cell_type": "markdown",
   "metadata": {},
   "source": [
    "## Add Dummy Data To Database"
   ]
  },
  {
   "cell_type": "code",
   "execution_count": null,
   "metadata": {},
   "outputs": [],
   "source": [
    "from ledhntr import LEDHNTR\n",
    "from time import time\n",
    "from ledhntr.data_classes import(\n",
    "    Attribute, Entity, Relation, Thing\n",
    ")\n",
    "\n",
    "from importlib.resources import files\n",
    "\n",
    "led = LEDHNTR()\n",
    "tdb = led.plugins['typedb_client']\n",
    "DB_NAME = \"DUMMY-DATA-DB\"\n",
    "tdb.db_name = DB_NAME\n",
    "SCHEMA = str(files('ledhntr').joinpath('schema/schema.tql'))\n",
    "nukeit=False\n",
    "\n",
    "if nukeit:\n",
    "    tdb.delete_db(DB_NAME)\n",
    "\n",
    "if not tdb.check_db(DB_NAME):\n",
    "    tdb.db_name = DB_NAME\n",
    "    tdb.create_db()\n",
    "    tdb.write_tql_file(file = SCHEMA)\n",
    "\n",
    "# tdb.add_relation(hunt) # @ This took 5 seconds to write everything\n",
    "\n",
    "# @ This was way faster, but I don't think it did it right.\n",
    "# things = {'attributes': [], 'entities': [], 'relations': [hunt]}\n",
    "# tdb.bulk_add(things)\n",
    "# led.logger.setLevel('DEBUG')\n",
    "all_hunts = gen_hunts(num_hunts=2)\n",
    "stime = time()\n",
    "led.logger.info(f\"START ADD RELATION {stime}\")\n",
    "tdb.add_relation(all_hunts[0])\n",
    "etime = time()\n",
    "led.logger.info(f\"END ADD RELATION {etime} - Length: {etime-stime}\")\n",
    "stime = time()\n",
    "led.logger.info(f\"START BULK_ADD {stime}\")\n",
    "things = {'attributes': [], 'entities': [], 'relations': [all_hunts[1]]}\n",
    "tdb.bulk_add(things)\n",
    "etime = time()\n",
    "led.logger.info(f\"END BULK_ADD {etime} - Length: {etime-stime}\")\n",
    "# led.logger.setLevel('INFO')"
   ]
  },
  {
   "cell_type": "code",
   "execution_count": null,
   "metadata": {},
   "outputs": [],
   "source": [
    "tdb.db_name = \"DUMMY-DATA-DB\"\n",
    "all_hunts = gen_hunts(num_hunts=2)\n",
    "for ah in all_hunts:\n",
    "    print(ah)\n",
    "\n"
   ]
  },
  {
   "cell_type": "code",
   "execution_count": null,
   "metadata": {},
   "outputs": [],
   "source": [
    "so = Relation(label='hunt', has=[Attribute(label='hunt-name', value='HUNT-0-1715022040')])\n",
    "res = tdb.find_things(so)\n",
    "print(res)"
   ]
  },
  {
   "cell_type": "code",
   "execution_count": null,
   "metadata": {},
   "outputs": [],
   "source": [
    "pprint(res[0].players['related'][0].to_dict())"
   ]
  },
  {
   "cell_type": "code",
   "execution_count": null,
   "metadata": {},
   "outputs": [],
   "source": [
    "so = Relation(label='hunt')\n",
    "tdb.find_things(so)"
   ]
  },
  {
   "cell_type": "code",
   "execution_count": null,
   "metadata": {},
   "outputs": [],
   "source": [
    "# led.logger.setLevel('DEBUG')\n",
    "ahents = all_hunts[0].players['related']\n",
    "things = {'attributes': [], 'entities': ahents, 'relations': [all_hunts[0]]}\n",
    "tdb.bulk_add(things)\n",
    "# led.logger.setLevel('INFO')"
   ]
  },
  {
   "cell_type": "code",
   "execution_count": null,
   "metadata": {},
   "outputs": [],
   "source": [
    "from ledhntr.data_classes import Query\n",
    "q = '''$ip_0012c iid 0x826e8002800000000000012c; get $ip_0012c;'''\n",
    "q = '''$ip_0 isa ip, has ip-address $ip-address_0; $ip-address_0 = \"254.98.204.230\"; fetch $ip_0 as IP: ip-address;'''\n",
    "q = '''$ip isa ip, has ip-address $ip1; $ip1 = '254.98.204.230'; get $ip;'''\n",
    "\n",
    "MyQuery = Query(qtype='match', string=q)\n",
    "# led.logger.setLevel('DEBUG')\n",
    "final_answers = tdb.raw_query(MyQuery)\n",
    "pprint(final_answers)\n",
    "# led.logger.setLevel('INFO')"
   ]
  },
  {
   "cell_type": "code",
   "execution_count": null,
   "metadata": {},
   "outputs": [],
   "source": [
    "tdb.db_name = \"DUMMY-DATA-DB\"\n",
    "ip_attr = Attribute(label='ip-address', value='254.98.204.230')\n",
    "ipent = Entity(label='ip', has=[ip_attr])\n",
    "pprint(tdb.get_query_from_thing(ipent))\n",
    "\n",
    "# tdb.find_things(ipent)"
   ]
  }
 ],
 "metadata": {
  "kernelspec": {
   "display_name": "tdbdriver",
   "language": "python",
   "name": "python3"
  },
  "language_info": {
   "codemirror_mode": {
    "name": "ipython",
    "version": 3
   },
   "file_extension": ".py",
   "mimetype": "text/x-python",
   "name": "python",
   "nbconvert_exporter": "python",
   "pygments_lexer": "ipython3",
   "version": "3.11.5"
  }
 },
 "nbformat": 4,
 "nbformat_minor": 2
}
