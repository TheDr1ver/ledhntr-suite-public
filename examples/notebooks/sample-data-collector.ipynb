{
 "cells": [
  {
   "cell_type": "markdown",
   "metadata": {},
   "source": [
    "# Imports"
   ]
  },
  {
   "cell_type": "code",
   "execution_count": null,
   "metadata": {},
   "outputs": [],
   "source": [
    "import copy\n",
    "import random\n",
    "from datetime import datetime, timedelta, timezone\n",
    "from importlib.resources import files\n",
    "# from shodan.shodan.shodan import Shodan\n",
    "from pprint import pprint, pformat\n",
    "from time import time\n",
    "\n",
    "from ledhntr import LEDHNTR\n",
    "from ledhntr.plugins import HNTRPlugin\n",
    "from ledhntr.data_classes import(\n",
    "    Attribute, Entity, Relation, Thing\n",
    ")\n",
    "from ledhntr.helpers import dumps\n",
    "\n",
    "led = LEDHNTR()\n",
    "# shodan: Shodan\n",
    "shodan = led.plugins['shodan']\n",
    "censys = led.plugins['censys']\n",
    "zeta = led.plugins['zeta']\n",
    "\n",
    "\n",
    "def simple_search(\n",
    "    plugin: HNTRPlugin = None,\n",
    "    query: str = \"\",\n",
    "    endpoint: str = \"\",\n",
    ")->dict:\n",
    "\n",
    "    plugin_name = plugin.__class__.__name__.lower()\n",
    "    now = datetime.now(timezone.utc)\n",
    "    # hosts_search\n",
    "\n",
    "    res = plugin.search(simple={'endpoint': endpoint, 'query':query})\n",
    "    data = dumps(res['raw'], compactly=True)\n",
    "    date = f\"{now.year}{now.month}{now.day}T{now.hour}{now.minute}{now.second}\"\n",
    "    with open(\n",
    "        f'./data/{plugin_name}-{date}-{endpoint}.json', \n",
    "        'w'\n",
    "    ) as f:\n",
    "        f.write(data)\n",
    "    return res"
   ]
  },
  {
   "cell_type": "markdown",
   "metadata": {},
   "source": [
    "# Shodan"
   ]
  },
  {
   "cell_type": "code",
   "execution_count": null,
   "metadata": {},
   "outputs": [],
   "source": [
    "now = datetime.now(timezone.utc)\n",
    "plugin = shodan\n",
    "plugin_name = plugin.__class__.__name__.lower()\n",
    "\n",
    "# hosts_search\n",
    "q = '''hash:-1587139099 ssl:\"CN=ocserv VPN, O=ocserv\"'''\n",
    "endpoint = 'hosts_search'\n",
    "res = simple_search(plugin, q, endpoint)\n",
    "\n",
    "# host_details\n",
    "query_number = 1\n",
    "ips = []\n",
    "\n",
    "for thing in res['things']:\n",
    "    if thing.label=='ip':\n",
    "        ips.append(thing.keyval)\n",
    "        if len(ips) >= query_number:\n",
    "            break\n",
    "\n",
    "endpoint = 'host_details'\n",
    "for ip in ips:\n",
    "    res = simple_search(plugin, ip, endpoint)\n",
    "\n"
   ]
  },
  {
   "cell_type": "markdown",
   "metadata": {},
   "source": [
    "# Censys"
   ]
  },
  {
   "cell_type": "code",
   "execution_count": null,
   "metadata": {},
   "outputs": [],
   "source": [
    "now = datetime.now(timezone.utc)\n",
    "plugin = censys\n",
    "plugin_name = plugin.__class__.__name__.lower()\n",
    "\n",
    "# hosts_search\n",
    "q = '''same_service(\n",
    "    services.tls.certificates.leaf_data.subject_dn=\"CN=ocserv VPN, O=ocserv\" \n",
    "    AND services.banner_hashes=\"sha256:2206fcd3ea22d4dcf52f4dd9291753b80e0533e93586597e3c78b417a1537290\"\n",
    ")'''\n",
    "endpoint = 'search'\n",
    "res1 = simple_search(plugin, q, endpoint)\n",
    "\n",
    "# host_details\n",
    "query_number = 1\n",
    "ips = []\n",
    "\n",
    "for thing in res1['things']:\n",
    "    if thing.label=='ip':\n",
    "        ips.append(thing.keyval)\n",
    "        if len(ips) >= query_number:\n",
    "            break\n",
    "\n",
    "endpoint = 'host_details'\n",
    "for ip in ips:\n",
    "    res2 = simple_search(plugin, ip, endpoint)\n",
    "\n"
   ]
  },
  {
   "cell_type": "markdown",
   "metadata": {},
   "source": [
    "# Zeta"
   ]
  },
  {
   "cell_type": "code",
   "execution_count": null,
   "metadata": {},
   "outputs": [],
   "source": [
    "now = datetime.now(timezone.utc)\n",
    "plugin = zeta\n",
    "plugin_name = plugin.__class__.__name__.lower()\n",
    "domain = \"poetpages.com\"\n",
    "ip = \"65.21.51.58\"\n",
    "\n",
    "# hostname\n",
    "endpoint = 'hostname'\n",
    "zreshostname = simple_search(plugin, domain, endpoint)\n",
    "\n",
    "# ip\n",
    "endpoint = \"ip\"\n",
    "zresip = simple_search(plugin, ip, endpoint)\n",
    "\n",
    "# domain2d8s\n",
    "endpoint = \"domain2d8s\"\n",
    "zresd8s = simple_search(plugin, domain, endpoint)\n",
    "\n",
    "# livedns\n",
    "endpoint = \"livedns\"\n",
    "zresdns = simple_search(plugin, domain, endpoint)"
   ]
  }
 ],
 "metadata": {
  "kernelspec": {
   "display_name": "tdbdriver",
   "language": "python",
   "name": "python3"
  },
  "language_info": {
   "codemirror_mode": {
    "name": "ipython",
    "version": 3
   },
   "file_extension": ".py",
   "mimetype": "text/x-python",
   "name": "python",
   "nbconvert_exporter": "python",
   "pygments_lexer": "ipython3",
   "version": "3.11.5"
  }
 },
 "nbformat": 4,
 "nbformat_minor": 2
}
